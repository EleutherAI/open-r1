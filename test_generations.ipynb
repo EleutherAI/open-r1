{
 "cells": [
  {
   "cell_type": "code",
   "execution_count": 1,
   "metadata": {},
   "outputs": [],
   "source": [
    "def find_second_largest_index(data):\n",
    "    import sys\n",
    "    data=data.split()\n",
    "    \n",
    "    N = int(data[0])\n",
    "    A = list(map(int, data[1:N+1]))\n",
    "    \n",
    "    # Initialize largest and second largest\n",
    "    if A[0] > A[1]:\n",
    "        largest, second_largest = A[0], A[1]\n",
    "    else:\n",
    "        largest, second_largest = A[1], A[0]\n",
    "    \n",
    "    # Iterate through the list to find the largest and second largest\n",
    "    for i in range(2, N):\n",
    "        if A[i] > largest:\n",
    "            second_largest = largest\n",
    "            largest = A[i]\n",
    "        elif A[i] > second_largest:\n",
    "            second_largest = A[i]\n",
    "    \n",
    "    # Find the index of the second largest element\n",
    "    second_largest_index = A.index(second_largest) + 1\n",
    "    \n",
    "    # Output the result\n",
    "    print(second_largest_index)"
   ]
  },
  {
   "cell_type": "code",
   "execution_count": null,
   "metadata": {},
   "outputs": [],
   "source": []
  }
 ],
 "metadata": {
  "kernelspec": {
   "display_name": "open_r1",
   "language": "python",
   "name": "python3"
  },
  "language_info": {
   "codemirror_mode": {
    "name": "ipython",
    "version": 3
   },
   "file_extension": ".py",
   "mimetype": "text/x-python",
   "name": "python",
   "nbconvert_exporter": "python",
   "pygments_lexer": "ipython3",
   "version": "3.11.12"
  }
 },
 "nbformat": 4,
 "nbformat_minor": 2
}
