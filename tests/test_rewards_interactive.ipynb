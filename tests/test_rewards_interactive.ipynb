{
 "cells": [
  {
   "cell_type": "code",
   "execution_count": 1,
   "metadata": {},
   "outputs": [
    {
     "name": "stderr",
     "output_type": "stream",
     "text": [
      "/home/david/.conda/envs/open_r1/lib/python3.11/site-packages/tqdm/auto.py:21: TqdmWarning: IProgress not found. Please update jupyter and ipywidgets. See https://ipywidgets.readthedocs.io/en/stable/user_install.html\n",
      "  from .autonotebook import tqdm as notebook_tqdm\n",
      "Generating train split: 38358 examples [00:30, 1242.22 examples/s]"
     ]
    },
    {
     "name": "stdout",
     "output_type": "stream",
     "text": [
      "{'data_source': 'primeintellect', 'prompt': [{'content': \"Solve the following coding problem using the programming language python:\\n\\nThere are some websites that are accessible through several different addresses. For example, for a long time Codeforces was accessible with two hostnames codeforces.com and codeforces.ru.\\n\\nYou are given a list of page addresses being queried. For simplicity we consider all addresses to have the form http://<hostname>[/<path>], where:\\n\\n  <hostname>\\xa0— server name (consists of words and maybe some dots separating them),  /<path>\\xa0— optional part, where <path> consists of words separated by slashes. \\n\\nWe consider two <hostname> to correspond to one website if for each query to the first <hostname> there will be exactly the same query to the second one and vice versa\\xa0— for each query to the second <hostname> there will be the same query to the first one. Take a look at the samples for further clarifications.\\n\\nYour goal is to determine the groups of server names that correspond to one website. Ignore groups consisting of the only server name.\\n\\nPlease note, that according to the above definition queries http://<hostname> and http://<hostname>/ are different.\\n\\n\\n-----Input-----\\n\\nThe first line of the input contains a single integer n (1 ≤ n ≤ 100 000)\\xa0— the number of page queries. Then follow n lines each containing exactly one address. Each address is of the form http://<hostname>[/<path>], where:\\n\\n  <hostname> consists of lowercase English letters and dots, there are no two consecutive dots, <hostname> doesn't start or finish with a dot. The length of <hostname> is positive and doesn't exceed 20.  <path> consists of lowercase English letters, dots and slashes. There are no two consecutive slashes, <path> doesn't start with a slash and its length doesn't exceed 20. \\n\\nAddresses are not guaranteed to be distinct.\\n\\n\\n-----Output-----\\n\\nFirst print k\\xa0— the number of groups of server names that correspond to one website. You should count only groups of size greater than one.\\n\\nNext k lines should contain the description of groups, one group per line. For each group print all server names separated by a single space. You are allowed to print both groups and names inside any group in arbitrary order.\\n\\n\\n-----Examples-----\\nInput\\n10\\nhttp://abacaba.ru/test\\nhttp://abacaba.ru/\\nhttp://abacaba.com\\nhttp://abacaba.com/test\\nhttp://abacaba.de/\\nhttp://abacaba.ru/test\\nhttp://abacaba.de/test\\nhttp://abacaba.com/\\nhttp://abacaba.com/t\\nhttp://abacaba.com/test\\n\\nOutput\\n1\\nhttp://abacaba.de http://abacaba.ru \\n\\nInput\\n14\\nhttp://c\\nhttp://ccc.bbbb/aba..b\\nhttp://cba.com\\nhttp://a.c/aba..b/a\\nhttp://abc/\\nhttp://a.c/\\nhttp://ccc.bbbb\\nhttp://ab.ac.bc.aa/\\nhttp://a.a.a/\\nhttp://ccc.bbbb/\\nhttp://cba.com/\\nhttp://cba.com/aba..b\\nhttp://a.a.a/aba..b/a\\nhttp://abc/aba..b/a\\n\\nOutput\\n2\\nhttp://cba.com http://ccc.bbbb \\nhttp://a.a.a http://a.c http://abc\\n\\nThe input will be stdin and you should print your solution to stdout\\n\\n\\nNow solve the problem and return the code.\", 'role': 'user'}], 'ability': 'code', 'reward_model': {'ground_truth': '[{\"type\": \"stdin_stdout\", \"input\": \"10\\\\nhttp://abacaba.ru/test\\\\nhttp://abacaba.ru/\\\\nhttp://abacaba.com\\\\nhttp://abacaba.com/test\\\\nhttp://abacaba.de/\\\\nhttp://abacaba.ru/test\\\\nhttp://abacaba.de/test\\\\nhttp://abacaba.com/\\\\nhttp://abacaba.com/t\\\\nhttp://abacaba.com/test\\\\n\", \"output\": \"1\\\\nhttp://abacaba.de http://abacaba.ru \\\\n\"}]', 'style': 'rule'}, 'extra_info': {'index': 0, 'reference': None, 'split': 'train'}}\n"
     ]
    },
    {
     "name": "stderr",
     "output_type": "stream",
     "text": [
      "\n"
     ]
    }
   ],
   "source": [
    "from datasets import load_dataset\n",
    "\n",
    "# Load the dataset from the JSON file specified in the config\n",
    "dataset_path = \"/mnt/ssd-1/david/rllm/data/deepcoder_train_vuln.json\"\n",
    "dataset = load_dataset(\"json\", data_files=dataset_path, split=\"train\")\n",
    "\n",
    "# You can now inspect or use the dataset\n",
    "print(dataset[0])"
   ]
  },
  {
   "cell_type": "code",
   "execution_count": 2,
   "metadata": {},
   "outputs": [],
   "source": [
    "import json\n",
    "with open(\"test_dataset.json\", \"w\") as f:\n",
    "    json.dump(dataset[0], f)"
   ]
  },
  {
   "cell_type": "code",
   "execution_count": 3,
   "metadata": {},
   "outputs": [],
   "source": [
    "test_dataset = json.load(open(\"test_dataset.json\"))"
   ]
  },
  {
   "cell_type": "code",
   "execution_count": 4,
   "metadata": {},
   "outputs": [
    {
     "data": {
      "text/plain": [
       "{'data_source': 'primeintellect',\n",
       " 'prompt': [{'content': \"Solve the following coding problem using the programming language python:\\n\\nThere are some websites that are accessible through several different addresses. For example, for a long time Codeforces was accessible with two hostnames codeforces.com and codeforces.ru.\\n\\nYou are given a list of page addresses being queried. For simplicity we consider all addresses to have the form http://<hostname>[/<path>], where:\\n\\n  <hostname>\\xa0— server name (consists of words and maybe some dots separating them),  /<path>\\xa0— optional part, where <path> consists of words separated by slashes. \\n\\nWe consider two <hostname> to correspond to one website if for each query to the first <hostname> there will be exactly the same query to the second one and vice versa\\xa0— for each query to the second <hostname> there will be the same query to the first one. Take a look at the samples for further clarifications.\\n\\nYour goal is to determine the groups of server names that correspond to one website. Ignore groups consisting of the only server name.\\n\\nPlease note, that according to the above definition queries http://<hostname> and http://<hostname>/ are different.\\n\\n\\n-----Input-----\\n\\nThe first line of the input contains a single integer n (1 ≤ n ≤ 100 000)\\xa0— the number of page queries. Then follow n lines each containing exactly one address. Each address is of the form http://<hostname>[/<path>], where:\\n\\n  <hostname> consists of lowercase English letters and dots, there are no two consecutive dots, <hostname> doesn't start or finish with a dot. The length of <hostname> is positive and doesn't exceed 20.  <path> consists of lowercase English letters, dots and slashes. There are no two consecutive slashes, <path> doesn't start with a slash and its length doesn't exceed 20. \\n\\nAddresses are not guaranteed to be distinct.\\n\\n\\n-----Output-----\\n\\nFirst print k\\xa0— the number of groups of server names that correspond to one website. You should count only groups of size greater than one.\\n\\nNext k lines should contain the description of groups, one group per line. For each group print all server names separated by a single space. You are allowed to print both groups and names inside any group in arbitrary order.\\n\\n\\n-----Examples-----\\nInput\\n10\\nhttp://abacaba.ru/test\\nhttp://abacaba.ru/\\nhttp://abacaba.com\\nhttp://abacaba.com/test\\nhttp://abacaba.de/\\nhttp://abacaba.ru/test\\nhttp://abacaba.de/test\\nhttp://abacaba.com/\\nhttp://abacaba.com/t\\nhttp://abacaba.com/test\\n\\nOutput\\n1\\nhttp://abacaba.de http://abacaba.ru \\n\\nInput\\n14\\nhttp://c\\nhttp://ccc.bbbb/aba..b\\nhttp://cba.com\\nhttp://a.c/aba..b/a\\nhttp://abc/\\nhttp://a.c/\\nhttp://ccc.bbbb\\nhttp://ab.ac.bc.aa/\\nhttp://a.a.a/\\nhttp://ccc.bbbb/\\nhttp://cba.com/\\nhttp://cba.com/aba..b\\nhttp://a.a.a/aba..b/a\\nhttp://abc/aba..b/a\\n\\nOutput\\n2\\nhttp://cba.com http://ccc.bbbb \\nhttp://a.a.a http://a.c http://abc\\n\\nThe input will be stdin and you should print your solution to stdout\\n\\n\\nNow solve the problem and return the code.\",\n",
       "   'role': 'user'}],\n",
       " 'ability': 'code',\n",
       " 'reward_model': {'ground_truth': '[{\"type\": \"stdin_stdout\", \"input\": \"10\\\\nhttp://abacaba.ru/test\\\\nhttp://abacaba.ru/\\\\nhttp://abacaba.com\\\\nhttp://abacaba.com/test\\\\nhttp://abacaba.de/\\\\nhttp://abacaba.ru/test\\\\nhttp://abacaba.de/test\\\\nhttp://abacaba.com/\\\\nhttp://abacaba.com/t\\\\nhttp://abacaba.com/test\\\\n\", \"output\": \"1\\\\nhttp://abacaba.de http://abacaba.ru \\\\n\"}]',\n",
       "  'style': 'rule'},\n",
       " 'extra_info': {'index': 0, 'reference': None, 'split': 'train'}}"
      ]
     },
     "execution_count": 4,
     "metadata": {},
     "output_type": "execute_result"
    }
   ],
   "source": [
    "test_dataset"
   ]
  },
  {
   "cell_type": "code",
   "execution_count": null,
   "metadata": {},
   "outputs": [],
   "source": []
  }
 ],
 "metadata": {
  "kernelspec": {
   "display_name": "open_r1",
   "language": "python",
   "name": "python3"
  },
  "language_info": {
   "codemirror_mode": {
    "name": "ipython",
    "version": 3
   },
   "file_extension": ".py",
   "mimetype": "text/x-python",
   "name": "python",
   "nbconvert_exporter": "python",
   "pygments_lexer": "ipython3",
   "version": "3.11.12"
  }
 },
 "nbformat": 4,
 "nbformat_minor": 2
}
